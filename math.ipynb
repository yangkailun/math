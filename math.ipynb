{
 "cells": [
  {
   "cell_type": "code",
   "execution_count": 17,
   "metadata": {},
   "outputs": [],
   "source": [
    "import matplotlib.pyplot as plt\n",
    "from math import sqrt\n",
    "#图中中文的正常显示\n",
    "plt.rcParams[\"font.sans-serif\"] = [\"SimHei\"]\n"
   ]
  },
  {
   "cell_type": "markdown",
   "metadata": {},
   "source": [
    "### 1. 砝码称重问题"
   ]
  },
  {
   "cell_type": "code",
   "execution_count": 15,
   "metadata": {},
   "outputs": [],
   "source": [
    "# 思路：用母函数做多项式的乘法\n",
    "#poly_a,b,c={0:1, 1:1}代表多项式1+x)\n",
    "def mult_poly(poly_a, poly_b):\n",
    "    poly_c = {}\n",
    "    for a_key in poly_a.keys():\n",
    "        for b_key in poly_b.keys():\n",
    "            poly_c.setdefault(a_key+b_key, 0) #这个函数很有用，可以对未定义的键值进行初始化\n",
    "            poly_c[a_key+b_key] += poly_a[a_key]*poly_b[b_key]\n",
    "    return poly_c\n",
    "#weights=[1,2,3]代表砝码的重量分别为1，2，3。至少包含两个元素 result = {1:1, 2:1, 3:2, 4:1, 5:1, 6:1}输出代表能够称1,2……6,并且有多少种称法\n",
    "def generation_function(weights):\n",
    "    result = {}\n",
    "    poly_c = {0:1}\n",
    "    for weight in weights:\n",
    "        poly_a = {0:1, weight:1}\n",
    "        poly_c = mult_poly(poly_a, poly_c)\n",
    "    result = poly_c\n",
    "    return result\n",
    "result = generation_function([1, 2, 3, 4, 5, 6, 7, 8])"
   ]
  },
  {
   "cell_type": "code",
   "execution_count": 16,
   "metadata": {},
   "outputs": [
    {
     "data": {
      "image/png": "[encoded data removed]",
      "text/plain": [
       "<Figure size 432x288 with 1 Axes>"
      ]
     },
     "metadata": {
      "needs_background": "light"
     },
     "output_type": "display_data"
    }
   ],
   "source": [
    "def plt_picture(result):\n",
    "    plt.bar(range(len(result.keys())), result.values())\n",
    "    for a, b in zip(range(len(result.keys())), result.values()):\n",
    "        plt.text(a, b + 0.005, '%.0f' % b, ha='center', va='bottom', fontsize=10)\n",
    "    plt.xlabel(\"重量\")\n",
    "    plt.ylabel('组合数')\n",
    "    plt.title('砝码能够称的重量及组合数')\n",
    "#     plt.show()\n",
    "    plt.savefig('D:/git project/math/fama.png')\n",
    "plt_picture(result)"
   ]
  },
  {
   "cell_type": "markdown",
   "metadata": {},
   "source": [
    "### 2. 斐波那契"
   ]
  },
  {
   "cell_type": "markdown",
   "metadata": {},
   "source": [
    "+ 直接表达式 $F_n = \\frac{1}{\\sqrt{5}}(\\alpha^n-\\beta^n)$ $\\alpha=\\frac{1+\\sqrt{5}}{2}$   $\\beta=\\frac{1-\\sqrt{5}}{2}$"
   ]
  },
  {
   "cell_type": "code",
   "execution_count": 38,
   "metadata": {},
   "outputs": [],
   "source": [
    "def Fibonacci(n):\n",
    "    sqrt_5 = sqrt(5)\n",
    "    alpha = (1 + sqrt_5) / 2\n",
    "    beta = (1-sqrt_5) / 2\n",
    "    fib_n = 1 / sqrt_5 * (pow(alpha, n) - pow(beta, n))\n",
    "    return int(fib_n)\n",
    "fibo_result = {}\n",
    "for n in range(10):\n",
    "    fibo_result[n] = Fibonacci(n)"
   ]
  },
  {
   "cell_type": "code",
   "execution_count": 30,
   "metadata": {},
   "outputs": [],
   "source": [
    "def plt_picture(keys, values, xlabel, ylabel, title):\n",
    "    plt.bar(keys, values)\n",
    "    for a, b in zip(keys, values):\n",
    "        plt.text(a, b + 0.05, '%.0f' % b, ha='center', va='bottom', fontsize=10)\n",
    "    plt.xlabel(xlabel)\n",
    "    plt.ylabel(ylabel)\n",
    "    plt.title(title)\n",
    "    plt.show()\n",
    "#     plt.savefig('D:/git project/math/fama.png')"
   ]
  },
  {
   "cell_type": "code",
   "execution_count": 39,
   "metadata": {},
   "outputs": [
    {
     "data": {
      "image/png": "[encoded data removed]",
      "text/plain": [
       "<Figure size 432x288 with 1 Axes>"
      ]
     },
     "metadata": {
      "needs_background": "light"
     },
     "output_type": "display_data"
    }
   ],
   "source": [
    "plt_picture(fibo_result.keys(), fibo_result.values(), '序列号', '斐波那契数', '斐波那契数列')"
   ]
  }
 ],
 "metadata": {
  "kernelspec": {
   "display_name": "Python 3",
   "language": "python",
   "name": "python3"
  },
  "language_info": {
   "codemirror_mode": {
    "name": "ipython",
    "version": 3
   },
   "file_extension": ".py",
   "mimetype": "text/x-python",
   "name": "python",
   "nbconvert_exporter": "python",
   "pygments_lexer": "ipython3",
   "version": "3.7.0"
  }
 },
 "nbformat": 4,
 "nbformat_minor": 2
}
